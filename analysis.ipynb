{
 "cells": [
  {
   "cell_type": "code",
   "execution_count": 1,
   "metadata": {
    "papermill": {
     "duration": 1.433535,
     "end_time": "2020-03-14T23:54:12.701983",
     "exception": false,
     "start_time": "2020-03-14T23:54:11.268448",
     "status": "completed"
    },
    "tags": []
   },
   "outputs": [],
   "source": [
    "import pandas as pd\n",
    "import numpy as np\n",
    "import datetime\n",
    "import re\n",
    "import json\n",
    "import datetime\n",
    "import os"
   ]
  },
  {
   "cell_type": "code",
   "execution_count": 2,
   "metadata": {
    "papermill": {
     "duration": 0.021748,
     "end_time": "2020-03-14T23:54:12.734846",
     "exception": false,
     "start_time": "2020-03-14T23:54:12.713098",
     "status": "completed"
    },
    "tags": []
   },
   "outputs": [],
   "source": [
    "pd.set_option('display.max_columns', None)\n",
    "pd.set_option('display.max_rows', None)"
   ]
  },
  {
   "cell_type": "code",
   "execution_count": 3,
   "metadata": {
    "papermill": {
     "duration": 0.015806,
     "end_time": "2020-03-14T23:54:12.758653",
     "exception": false,
     "start_time": "2020-03-14T23:54:12.742847",
     "status": "completed"
    },
    "tags": [
     "parameters"
    ]
   },
   "outputs": [],
   "source": [
    "# Parameter Specification\n",
    "date = None\n",
    "cron_path = ''"
   ]
  },
  {
   "cell_type": "code",
   "execution_count": 4,
   "metadata": {
    "papermill": {
     "duration": 0.015337,
     "end_time": "2020-03-14T23:54:12.781909",
     "exception": false,
     "start_time": "2020-03-14T23:54:12.766572",
     "status": "completed"
    },
    "tags": [
     "injected-parameters"
    ]
   },
   "outputs": [],
   "source": [
    "# Parameters\n",
    "date = \"2020_03_14\"\n"
   ]
  },
  {
   "cell_type": "code",
   "execution_count": 5,
   "metadata": {
    "papermill": {
     "duration": 0.393343,
     "end_time": "2020-03-14T23:54:13.184305",
     "exception": false,
     "start_time": "2020-03-14T23:54:12.790962",
     "status": "completed"
    },
    "tags": []
   },
   "outputs": [],
   "source": [
    "data = []\n",
    "input_file = 'data/final_output/clean_data_{date}.json'.format(date=date)\n",
    "input_file = os.path.join(cron_path,input_file)\n",
    "\n",
    "with open(input_file) as data_file:\n",
    "    for row in data_file:\n",
    "        f = json.loads(row)\n",
    "        data.append(f)"
   ]
  },
  {
   "cell_type": "code",
   "execution_count": 6,
   "metadata": {
    "papermill": {
     "duration": 0.232361,
     "end_time": "2020-03-14T23:54:13.430385",
     "exception": false,
     "start_time": "2020-03-14T23:54:13.198024",
     "status": "completed"
    },
    "tags": []
   },
   "outputs": [],
   "source": [
    "raw_df = pd.DataFrame(data)"
   ]
  },
  {
   "cell_type": "code",
   "execution_count": 7,
   "metadata": {
    "papermill": {
     "duration": 0.032838,
     "end_time": "2020-03-14T23:54:13.472163",
     "exception": false,
     "start_time": "2020-03-14T23:54:13.439325",
     "status": "completed"
    },
    "tags": []
   },
   "outputs": [],
   "source": [
    "# Building the actual df to work on\n",
    "\n",
    "val_screen_vars = ['ticker','name','sector','industry','price','pe','pb','ps','pfcf','dividend_pct','evebitda','perf_year','perf_half_y','perf_quarter','perf_month']\n",
    "df = pd.DataFrame()\n",
    "\n",
    "for i in val_screen_vars:\n",
    "    df[i] = raw_df[i]"
   ]
  },
  {
   "cell_type": "code",
   "execution_count": 8,
   "metadata": {
    "papermill": {
     "duration": 0.06843,
     "end_time": "2020-03-14T23:54:13.550095",
     "exception": false,
     "start_time": "2020-03-14T23:54:13.481665",
     "status": "completed"
    },
    "tags": []
   },
   "outputs": [],
   "source": [
    "\"\"\" All the data cleaning \"\"\"\n",
    "\n",
    "# Only look at tickers wher we have complete data\n",
    "df = df[df.pb.notnull()]\n",
    "df = df[df.ps.notnull()]\n",
    "df = df[df.pfcf.notnull()]\n",
    "df = df[df.evebitda.notnull()]\n",
    "\n",
    "# Convert EVEBITDA to float\n",
    "df['evebitda'] = df['evebitda'].apply(lambda x: float(str(x).replace(',','')))\n",
    "\n",
    "# For div_pct and P/E, we can use null tickers\n",
    "df['dividend_pct'] = df['dividend_pct'].fillna(0)\n",
    "df['pe'] = df['pe'].fillna(1000)\n",
    "\n",
    "# Dispose of industries we don't care about\n",
    "dispose_df = df[(df['industry'].str.contains('REIT')) \n",
    "   | (df['industry'].isin(['USA','United Kingdom']))\n",
    "   | (df['industry'].str.contains('Fund'))]\n",
    "\n",
    "df = pd.concat([df, dispose_df]).drop_duplicates(keep=False)\n"
   ]
  },
  {
   "cell_type": "code",
   "execution_count": 9,
   "metadata": {
    "papermill": {
     "duration": 0.036176,
     "end_time": "2020-03-14T23:54:13.595820",
     "exception": false,
     "start_time": "2020-03-14T23:54:13.559644",
     "status": "completed"
    },
    "tags": []
   },
   "outputs": [],
   "source": [
    "# Assign master scores\n",
    "\n",
    "for v in ['pe','pb','ps','pfcf','evebitda']:\n",
    "    df[v+'_master_score'] = df[v].rank(pct=True,ascending=False)\n",
    "    df[v+'_master_score'] = df[v+'_master_score'].apply(lambda x: int(x * 100))\n",
    "\n",
    "df['dividend_pct_master_score'] = df['dividend_pct'].rank(pct=True,ascending=True)\n",
    "df['dividend_pct_master_score'] = df['dividend_pct_master_score'].apply(lambda x: int(x * 100))"
   ]
  },
  {
   "cell_type": "code",
   "execution_count": 10,
   "metadata": {
    "papermill": {
     "duration": 0.054356,
     "end_time": "2020-03-14T23:54:13.660476",
     "exception": false,
     "start_time": "2020-03-14T23:54:13.606120",
     "status": "completed"
    },
    "tags": []
   },
   "outputs": [],
   "source": [
    "# Assign sector scores\n",
    "\n",
    "for v in ['pe','pb','ps','pfcf','evebitda']:\n",
    "    df[v+'_sector_score'] = df.groupby('sector')[v].rank(pct=True,ascending=False)\n",
    "    df[v+'_sector_score'] = df[v+'_sector_score'].apply(lambda x: int(x * 100))\n",
    "\n",
    "df['dividend_pct_sector_score'] = df.groupby('sector')['dividend_pct'].rank(pct=True,ascending=True)\n",
    "df['dividend_pct_sector_score'] = df['dividend_pct_sector_score'].apply(lambda x: int(x * 100))"
   ]
  },
  {
   "cell_type": "code",
   "execution_count": 11,
   "metadata": {
    "papermill": {
     "duration": 0.034572,
     "end_time": "2020-03-14T23:54:13.703866",
     "exception": false,
     "start_time": "2020-03-14T23:54:13.669294",
     "status": "completed"
    },
    "tags": []
   },
   "outputs": [],
   "source": [
    "# Assign net scores\n",
    "\n",
    "for l in ['_master_score','_sector_score']:\n",
    "    df['net'+l] = df['pe'+l] + df['pb'+l] + df['pb'+l] + df['pfcf'+l]+ df['evebitda'+l] + df['dividend_pct'+l]\n",
    "\n",
    "df['net_total_score'] = df[['net_master_score','net_sector_score']].astype(float).mean(axis=1)"
   ]
  },
  {
   "cell_type": "code",
   "execution_count": 12,
   "metadata": {
    "papermill": {
     "duration": 0.058616,
     "end_time": "2020-03-14T23:54:13.769355",
     "exception": false,
     "start_time": "2020-03-14T23:54:13.710739",
     "status": "completed"
    },
    "tags": []
   },
   "outputs": [],
   "source": [
    "# Normalize performance percentages\n",
    "\n",
    "timeframes = ['year','half_y','quarter','month']\n",
    "\n",
    "for t in timeframes:\n",
    "    col = 'perf_' + t\n",
    "    df[col + '_t_w'] = (df[col]-df[col].min())/(df[col].max()-df[col].min())\n",
    "    \n",
    "    sdf = df.groupby('sector')[col]\n",
    "    df[col + '_s_w'] = (df[col]-sdf.transform(min))/(sdf.transform(max)-sdf.transform(min))\n",
    "    \n",
    "    if t == 'half_y':\n",
    "        df[col + '_t_w'] = df[col + '_t_w'].apply(lambda x: x * 2)\n",
    "        df[col + '_s_w'] = df[col + '_s_w'].apply(lambda x: x * 2)\n",
    "    elif t == 'quarter':\n",
    "        df[col + '_t_w'] = df[col + '_t_w'].apply(lambda x: x * 3)\n",
    "        df[col + '_s_w'] = df[col + '_s_w'].apply(lambda x: x * 3)\n",
    "    elif t == 'month':\n",
    "        df[col + '_t_w'] = df[col + '_t_w'].apply(lambda x: x * 4)\n",
    "        df[col + '_s_w'] = df[col + '_s_w'].apply(lambda x: x * 4)\n",
    "\n",
    "df['perf_total_score'] = df['perf_year_t_w'] + df['perf_half_y_t_w'] + df['perf_quarter_t_w'] + df['perf_month_t_w']\n",
    "df['perf_sector_score'] = df['perf_year_s_w'] + df['perf_half_y_s_w'] + df['perf_quarter_s_w'] + df['perf_month_s_w']"
   ]
  },
  {
   "cell_type": "code",
   "execution_count": 13,
   "metadata": {
    "papermill": {
     "duration": 0.019294,
     "end_time": "2020-03-14T23:54:13.796258",
     "exception": false,
     "start_time": "2020-03-14T23:54:13.776964",
     "status": "completed"
    },
    "tags": []
   },
   "outputs": [],
   "source": [
    "# Produce the DF with the key metrics and scores\n",
    "\n",
    "final_df = df.filter(['ticker','name','sector','industry','price','pe','pb','ps','pfcf','dividend_pct','evebitda',\n",
    "          'perf_year','perf_half_y','perf_quarter','perf_month','net_master_score','net_sector_score',\n",
    "          'perf_total_score','perf_sector_score'])\n",
    "\n",
    "# Produce the DF with top 25 stocks per sector\n",
    "\n",
    "output_df = final_df.sort_values(by='net_sector_score', ascending=False).groupby('sector').head(25)"
   ]
  },
  {
   "cell_type": "code",
   "execution_count": 14,
   "metadata": {
    "papermill": {
     "duration": 0.064094,
     "end_time": "2020-03-14T23:54:13.869010",
     "exception": false,
     "start_time": "2020-03-14T23:54:13.804916",
     "status": "completed"
    },
    "tags": []
   },
   "outputs": [],
   "source": [
    "# Write files to CSV\n",
    "\n",
    "scored_file = os.path.join(cron_path,'analysis_output/scored_file_{date}.csv'.format(date=date))\n",
    "ranked_file = os.path.join(cron_path,'analysis_output/ranked_file_{date}.csv'.format(date=date))\n",
    "\n",
    "final_df.to_csv(scored_file, index=False)\n",
    "output_df.sort_values(\n",
    "    by=['sector','perf_sector_score'],\n",
    "    ascending=[True,False]\n",
    ").to_csv(ranked_file, index=True)"
   ]
  }
 ],
 "metadata": {
  "kernelspec": {
   "display_name": "Python 3",
   "language": "python",
   "name": "python3"
  },
  "language_info": {
   "codemirror_mode": {
    "name": "ipython",
    "version": 3
   },
   "file_extension": ".py",
   "mimetype": "text/x-python",
   "name": "python",
   "nbconvert_exporter": "python",
   "pygments_lexer": "ipython3",
   "version": "3.7.6"
  },
  "papermill": {
   "duration": 3.968009,
   "end_time": "2020-03-14T23:54:13.890974",
   "environment_variables": {},
   "exception": null,
   "input_path": "analysis.ipynb",
   "output_path": "analysis.ipynb",
   "parameters": {
    "date": "2020_03_14"
   },
   "start_time": "2020-03-14T23:54:09.922965",
   "version": "2.0.0"
  }
 },
 "nbformat": 4,
 "nbformat_minor": 2
}
